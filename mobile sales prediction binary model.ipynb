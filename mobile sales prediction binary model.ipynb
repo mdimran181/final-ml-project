{
 "cells": [
  {
   "cell_type": "code",
   "execution_count": 1,
   "id": "ab125f3c",
   "metadata": {},
   "outputs": [],
   "source": [
    "##mobile sales prediction binary model"
   ]
  },
  {
   "cell_type": "code",
   "execution_count": 2,
   "id": "cfdf3248",
   "metadata": {},
   "outputs": [
    {
     "name": "stdout",
     "output_type": "stream",
     "text": [
      "Populating the interactive namespace from numpy and matplotlib\n"
     ]
    }
   ],
   "source": [
    "%pylab inline\n",
    "import pandas as pd\n",
    "import numpy as np\n",
    "from sklearn import model_selection\n",
    "import matplotlib.pyplot as plt\n",
    "from sklearn.preprocessing import StandardScaler\n",
    "from sklearn.linear_model import LinearRegression\n",
    "from sklearn.linear_model import LogisticRegression\n",
    "from sklearn.metrics import accuracy_score, roc_auc_score\n",
    "from sklearn.metrics import roc_curve, precision_recall_curve\n",
    "from sklearn.ensemble import RandomForestClassifier\n",
    "from sklearn.tree import DecisionTreeClassifier\n",
    "from sklearn.ensemble import BaggingClassifier\n",
    "from sklearn.neighbors import KNeighborsClassifier\n",
    "from sklearn.ensemble import RandomForestClassifier\n",
    "import time"
   ]
  },
  {
   "cell_type": "code",
   "execution_count": 3,
   "id": "12909b5e",
   "metadata": {},
   "outputs": [
    {
     "name": "stdout",
     "output_type": "stream",
     "text": [
      "1400\n",
      "600\n",
      "1400\n",
      "600\n"
     ]
    }
   ],
   "source": [
    "train = pd.read_csv('train.csv')\n",
    "\n",
    "y = train.price_range\n",
    "\n",
    "y = y.replace({1: 0, 2: 1, 3: 1, 4: 1})\n",
    "\n",
    "X = train.drop('price_range', axis=1)\n",
    "\n",
    "divide_seed = np.random.randint(1, 100)\n",
    "\n",
    "X_train, X_test, y_train, y_test = model_selection.train_test_split(\n",
    "    X, y, test_size=0.3, random_state=divide_seed)\n",
    "\n",
    "scaler = StandardScaler()\n",
    "\n",
    "scaler.fit(X_train)\n",
    "X_train = scaler.transform(X_train)\n",
    "\n",
    "scaler.fit(X_test)\n",
    "X_test = scaler.transform(X_test)\n",
    "\n",
    "print(len(X_train))\n",
    "print(len(X_test))\n",
    "print(len(y_train))\n",
    "print(len(y_test))"
   ]
  },
  {
   "cell_type": "code",
   "execution_count": 4,
   "id": "2b313dce",
   "metadata": {},
   "outputs": [
    {
     "name": "stdout",
     "output_type": "stream",
     "text": [
      "Test result: 0.7015020432518382\n",
      "Train result: 0.7245516909274282\n"
     ]
    }
   ],
   "source": [
    "#Let's start with a linear regression:\n",
    "lr = LinearRegression()\n",
    "\n",
    "lr.fit(X_train, y_train)\n",
    "\n",
    "prediction_lr = lr.predict(X_train)\n",
    "\n",
    "print(\"Test result:\", lr.score(X_test, y_test))\n",
    "\n",
    "print(\"Train result:\", lr.score(X_train, y_train))"
   ]
  },
  {
   "cell_type": "code",
   "execution_count": 5,
   "id": "e987cbc7",
   "metadata": {},
   "outputs": [
    {
     "name": "stdout",
     "output_type": "stream",
     "text": [
      "Predicted with  20  neighbours\n",
      "Predicted with  40  neighbours\n",
      "Predicted with  60  neighbours\n",
      "Predicted with  80  neighbours\n",
      "Predicted with  100  neighbours\n"
     ]
    }
   ],
   "source": [
    "##Now, let's continue with kNN:\n",
    "\n",
    "list_of_predictions_knn = list()\n",
    "list_of_test_results_knn = list()\n",
    "list_of_train_results_knn = list()\n",
    "\n",
    "for i in range(1, 101):\n",
    "    knn = KNeighborsClassifier(n_neighbors=i)\n",
    "    knn.fit(X_train, y_train)\n",
    "    list_of_predictions_knn.append(knn.predict(X_train))\n",
    "    list_of_test_results_knn.append(knn.score(X_test, y_test))\n",
    "    list_of_train_results_knn.append(knn.score(X_train, y_train))\n",
    "    if i % 20 == 0:\n",
    "        print(\"Predicted with \", i, \" neighbours\")"
   ]
  },
  {
   "cell_type": "code",
   "execution_count": 6,
   "id": "1d6671ac",
   "metadata": {},
   "outputs": [
    {
     "name": "stdout",
     "output_type": "stream",
     "text": [
      "Max test result:  0.935  takes  83  trees\n"
     ]
    },
    {
     "data": {
      "text/plain": [
       "<matplotlib.collections.PathCollection at 0x21d823f7460>"
      ]
     },
     "execution_count": 6,
     "metadata": {},
     "output_type": "execute_result"
    },
    {
     "data": {
      "image/png": "[encoded data removed]",
      "text/plain": [
       "<Figure size 432x288 with 1 Axes>"
      ]
     },
     "metadata": {
      "needs_background": "light"
     },
     "output_type": "display_data"
    }
   ],
   "source": [
    "\n",
    "print(\"Max test result: \", max(list_of_test_results_knn), \n",
    "      \" takes \", (list_of_test_results_knn.index(max(list_of_test_results_knn))+1), \" trees\")\n",
    "\n",
    "plt.scatter(x=list((range(1, 101))), y=list_of_test_results_knn)"
   ]
  },
  {
   "cell_type": "code",
   "execution_count": 7,
   "id": "78416fd5",
   "metadata": {},
   "outputs": [
    {
     "name": "stdout",
     "output_type": "stream",
     "text": [
      "Train result: 0.9928571428571429\n",
      "Accuracy: 0.975\n",
      "AUC-ROC: 0.9750808414174751\n",
      "######################################################\n"
     ]
    },
    {
     "data": {
      "text/plain": [
       "[<matplotlib.lines.Line2D at 0x21d82503f40>]"
      ]
     },
     "execution_count": 7,
     "metadata": {},
     "output_type": "execute_result"
    },
    {
     "data": {
      "image/png": "[encoded data removed]",
      "text/plain": [
       "<Figure size 432x288 with 1 Axes>"
      ]
     },
     "metadata": {
      "needs_background": "light"
     },
     "output_type": "display_data"
    }
   ],
   "source": [
    "##Next classifier we'll try to use is Logistic Regression:\n",
    "logistic_model = LogisticRegression()\n",
    "\n",
    "logistic_model.fit(X_train, y_train)\n",
    "\n",
    "prediction = logistic_model.predict(X_test)\n",
    "\n",
    "#print(\"Test result:\", logistic_model.score(X_test, y_test))\n",
    "\n",
    "print(\"Train result:\", logistic_model.score(X_train, y_train))\n",
    "\n",
    "print(\"Accuracy:\", accuracy_score(y_test, prediction))\n",
    "\n",
    "print(\"AUC-ROC:\", roc_auc_score(y_test, prediction))\n",
    "\n",
    "print(\"######################################################\")\n",
    "logistic_model_proba = LogisticRegression()\n",
    "\n",
    "logistic_model_proba.fit(X_train, y_train)\n",
    "\n",
    "prediction_proba = logistic_model.predict_proba(X_test)\n",
    "\n",
    "\n",
    "# Now let's create the ROC-curve and PR-curve to represent our model\n",
    "plt.xlabel(\"False Positive Rate\")\n",
    "plt.ylabel(\"True Positive Rate\")\n",
    "fpr, tpr, _ = roc_curve(y_test, prediction)\n",
    "acc = logistic_model.score(X_test, y_test)\n",
    "auc = roc_auc_score(y_test, prediction)\n",
    "plt.plot(fpr, tpr, label=\"acc:%.2f auc:%.2f\" % (acc, auc), linewidth=3)\n",
    "plt.legend(loc=\"best\")\n",
    "\n",
    "precision, recall, thresholds = precision_recall_curve(y_test, prediction_proba[:, 1])\n",
    "\n",
    "plt.plot(fpr, tpr)\n",
    "\n",
    "plt.plot(recall, precision)"
   ]
  },
  {
   "cell_type": "code",
   "execution_count": 8,
   "id": "48bf4e6c",
   "metadata": {},
   "outputs": [
    {
     "name": "stdout",
     "output_type": "stream",
     "text": [
      "Test result (accuracy): 0.9166666666666666\n",
      "Accuracy: 0.9166666666666666\n",
      "AUC-ROC: 0.9170250358369171\n",
      "######################################################\n",
      "Accuracy: 0.9166666666666666\n",
      "AUC-ROC: 0.9170250358369171\n"
     ]
    }
   ],
   "source": [
    "#Next step we'll take is DecisionTree model:\n",
    "decision_tree = DecisionTreeClassifier(random_state=divide_seed)\n",
    "\n",
    "decision_tree.fit(X_train, y_train)\n",
    "\n",
    "prediction_tree = decision_tree.predict(X_test)\n",
    "\n",
    "print(\"Test result (accuracy):\", decision_tree.score(X_test, y_test))\n",
    "\n",
    "print(\"Accuracy:\", accuracy_score(y_test, prediction_tree))\n",
    "\n",
    "auc_roc_tree = roc_auc_score(y_test, prediction_tree)\n",
    "\n",
    "print(\"AUC-ROC:\", auc_roc_tree)\n",
    "\n",
    "print(\"######################################################\")\n",
    "decision_tree_proba = DecisionTreeClassifier(random_state=divide_seed)\n",
    "\n",
    "decision_tree_proba.fit(X_train, y_train)\n",
    "\n",
    "prediction_tree_proba = decision_tree_proba.predict_proba(X_test)[:, 1]\n",
    "\n",
    "print(\"Accuracy:\", accuracy_score(y_test, prediction_tree_proba > 0.5))\n",
    "\n",
    "auc_roc_tree = roc_auc_score(y_test, prediction_tree_proba)\n",
    "\n",
    "print(\"AUC-ROC:\", auc_roc_tree)"
   ]
  },
  {
   "cell_type": "code",
   "execution_count": 9,
   "id": "11b1c137",
   "metadata": {},
   "outputs": [
    {
     "name": "stdout",
     "output_type": "stream",
     "text": [
      "######################################################\n",
      "Accuracy: 0.9516666666666667\n",
      "AUC-ROC: 0.9889044460001556\n"
     ]
    }
   ],
   "source": [
    "#This accuracy is not enough to accept this decision tree model, so, let's use bagging to try to improve it.\n",
    "bagging = BaggingClassifier(base_estimator=DecisionTreeClassifier(random_state=divide_seed), n_estimators=100)\n",
    "\n",
    "bagging.fit(X_train, y_train)\n",
    "\n",
    "prediction_bagging = bagging.predict(X_test)\n",
    "\n",
    "#print(\"Test result:\", bagging.score(X_test, y_test))\n",
    "\n",
    "#print(\"Train result:\", bagging.score(X_train, y_train))\n",
    "\n",
    "#print(\"Accuracy:\", accuracy_score(y_test, prediction_bagging))\n",
    "\n",
    "auc_roc_tree = roc_auc_score(y_test, prediction_bagging)\n",
    "\n",
    "print(\"######################################################\")\n",
    "bagging_proba = BaggingClassifier(base_estimator=DecisionTreeClassifier(random_state=divide_seed), n_estimators=100)\n",
    "\n",
    "bagging_proba.fit(X_train, y_train)\n",
    "\n",
    "prediction_bagging_proba = bagging_proba.predict_proba(X_test)[:, 1]\n",
    "\n",
    "print(\"Accuracy:\", accuracy_score(y_test, prediction_bagging_proba > 0.5))\n",
    "\n",
    "auc_roc_tree = roc_auc_score(y_test, prediction_bagging_proba)\n",
    "\n",
    "print(\"AUC-ROC:\", auc_roc_tree)"
   ]
  },
  {
   "cell_type": "code",
   "execution_count": 10,
   "id": "657f4961",
   "metadata": {},
   "outputs": [],
   "source": [
    "##As we can see, it worked, AUC-ROC metric gives us now 99,4%.\n",
    "\n",
    "##But let's continue and bootstrap our sample:"
   ]
  },
  {
   "cell_type": "code",
   "execution_count": 11,
   "id": "5b0caa77",
   "metadata": {},
   "outputs": [
    {
     "name": "stdout",
     "output_type": "stream",
     "text": [
      "Accuracy: 0.9533333333333334\n",
      "ROC-AUC: 0.9872653932059872\n"
     ]
    }
   ],
   "source": [
    "new_predicted_tree = 0\n",
    "new_predicted_tree_proba = np.zeros(X_test.shape[0])\n",
    "\n",
    "\n",
    "for k in range(0, 100):\n",
    "    i_new = np.random.randint(0, X_train.shape[0], int(2000*0.7))\n",
    "    tree_class = DecisionTreeClassifier()\n",
    "    \n",
    "    tree_class.fit(X_train[i_new], array(y_train)[i_new])\n",
    "    \n",
    "    new_predicted_tree_proba += tree_class.predict_proba(X_test)[:, 1]\n",
    "    \n",
    "    new_predicted_tree += tree_class.predict(X_test)\n",
    "    new_predicted_tree = np.divide(new_predicted_tree, 100).astype('int8')\n",
    "    \n",
    "new_predicted_tree_proba = new_predicted_tree_proba / 100\n",
    "    \n",
    "\n",
    "print(\"Accuracy:\", accuracy_score(y_test, new_predicted_tree_proba > 0.5))\n",
    "print(\"ROC-AUC:\", roc_auc_score(y_test, new_predicted_tree_proba))"
   ]
  },
  {
   "cell_type": "code",
   "execution_count": 12,
   "id": "a4f41e97",
   "metadata": {},
   "outputs": [],
   "source": [
    "##Comparable, but still bit worse than Bagging\n",
    "\n",
    "##Let's try RandomForestClassifier with different number of trees:"
   ]
  },
  {
   "cell_type": "code",
   "execution_count": 13,
   "id": "6f9f8111",
   "metadata": {},
   "outputs": [
    {
     "name": "stdout",
     "output_type": "stream",
     "text": [
      "Number of trees: 50\n",
      "Prediction completed by 5.0 %\n",
      "Took  0.9979665279388428  seconds\n",
      "--------------------\n",
      "Number of trees: 150\n",
      "Prediction completed by 15.0 %\n",
      "Took  4.719435691833496  seconds\n",
      "--------------------\n",
      "Number of trees: 250\n",
      "Prediction completed by 25.0 %\n",
      "Took  10.636664867401123  seconds\n",
      "--------------------\n",
      "Number of trees: 350\n",
      "Prediction completed by 35.0 %\n",
      "Took  19.622387170791626  seconds\n",
      "--------------------\n",
      "Number of trees: 450\n",
      "Prediction completed by 45.0 %\n",
      "Took  32.34672403335571  seconds\n",
      "--------------------\n",
      "Number of trees: 550\n",
      "Prediction completed by 55.0 %\n",
      "Took  46.11509156227112  seconds\n",
      "--------------------\n",
      "Number of trees: 650\n",
      "Prediction completed by 65.0 %\n",
      "Took  62.674309730529785  seconds\n",
      "--------------------\n",
      "Number of trees: 750\n",
      "Prediction completed by 75.0 %\n",
      "Took  82.5909481048584  seconds\n",
      "--------------------\n",
      "Number of trees: 850\n",
      "Prediction completed by 85.0 %\n",
      "Took  105.43815398216248  seconds\n",
      "--------------------\n",
      "Number of trees: 950\n",
      "Prediction completed by 95.0 %\n",
      "Took  129.69598007202148  seconds\n",
      "--------------------\n",
      "Prediction completed by 100%\n",
      "Prediction took  270.2604489326477  seconds\n"
     ]
    }
   ],
   "source": [
    "test_forest_results = list()\n",
    "train_forest_results = list()\n",
    "accuracy_forest_results = list()\n",
    "auc_roc_forest_results = list()\n",
    "time_list = list()\n",
    "\n",
    "accuracy_forest_results_proba = list()\n",
    "auc_roc_forest_results_proba = list()\n",
    "\n",
    "start = time.time()\n",
    "cur_time = start\n",
    "\n",
    "for j in range(10, 1010, 10):\n",
    "    \n",
    "    decision_forest = RandomForestClassifier(random_state=divide_seed, n_estimators=j)\n",
    "    decision_forest_proba = RandomForestClassifier(random_state=divide_seed, n_estimators=j)\n",
    "\n",
    "    decision_forest.fit(X_train, y_train)\n",
    "    \n",
    "    decision_forest_proba.fit(X_train, y_train)\n",
    "\n",
    "    prediction_forest = decision_forest.predict(X_test)\n",
    "    \n",
    "    prediction_forest_pr = decision_forest_proba.predict_proba(X_test)[:, 1]\n",
    "\n",
    "    test_forest_results.append(decision_forest.score(X_test, y_test))\n",
    "\n",
    "    train_forest_results.append(decision_forest.score(X_train, y_train))\n",
    "\n",
    "    accuracy_forest_results.append(accuracy_score(y_test, prediction_forest))\n",
    "    \n",
    "    accuracy_forest_results_proba.append(accuracy_score(y_test, prediction_forest_pr > 0.5))\n",
    "\n",
    "    auc_roc_forest = roc_auc_score(y_test, prediction_forest)\n",
    "\n",
    "    auc_roc_forest_results.append(auc_roc_forest)\n",
    "    auc_roc_forest_results_proba.append(roc_auc_score(y_test, prediction_forest_pr))\n",
    "    if j % 50 == 0:\n",
    "        cur_time = time.time() - cur_time\n",
    "        if j % 100 != 0:\n",
    "            time_list.append(cur_time)\n",
    "            print('Number of trees:', j)\n",
    "            print(\"Prediction completed by\", j/10, \"%\")\n",
    "            print(\"Took \", cur_time, \" seconds\")\n",
    "            print(\"--------------------\")\n",
    "print(\"Prediction completed by 100%\")\n",
    "finish = time.time() - start\n",
    "\n",
    "print(\"Prediction took \", finish, \" seconds\")"
   ]
  },
  {
   "cell_type": "code",
   "execution_count": 14,
   "id": "26c74d03",
   "metadata": {},
   "outputs": [
    {
     "name": "stdout",
     "output_type": "stream",
     "text": [
      "Max test result:  0.9466666666666667  takes  40  trees\n",
      "Max accuracy result:  0.9466666666666667  takes  40  trees\n",
      "Max auc-roc result:  0.9466613327999467  takes  40  trees\n",
      "Max accuracy result with proba:  0.9466666666666667  takes  40  trees\n",
      "Max auc-roc result with proba:  0.9905935037948238  takes  40  trees\n"
     ]
    },
    {
     "data": {
      "image/png": "[encoded data removed]",
      "text/plain": [
       "<Figure size 432x288 with 1 Axes>"
      ]
     },
     "metadata": {
      "needs_background": "light"
     },
     "output_type": "display_data"
    },
    {
     "name": "stdout",
     "output_type": "stream",
     "text": [
      "Time taken via number of trees:\n"
     ]
    },
    {
     "data": {
      "image/png": "[encoded data removed]",
      "text/plain": [
       "<Figure size 432x288 with 1 Axes>"
      ]
     },
     "metadata": {
      "needs_background": "light"
     },
     "output_type": "display_data"
    }
   ],
   "source": [
    "print(\"Max test result: \", max(test_forest_results), \" takes \", (test_forest_results.index(max(test_forest_results))+1)*10, \" trees\")\n",
    "\n",
    "print(\"Max accuracy result: \", max(accuracy_forest_results), \" takes \", (accuracy_forest_results.index(max(accuracy_forest_results))+1)*10, \" trees\")\n",
    "\n",
    "print(\"Max auc-roc result: \", max(auc_roc_forest_results), \" takes \", (auc_roc_forest_results.index(max(auc_roc_forest_results))+1)*10, \" trees\")\n",
    "\n",
    "print(\"Max accuracy result with proba: \", max(accuracy_forest_results_proba), \" takes \", (accuracy_forest_results.index(max(accuracy_forest_results))+1)*10, \" trees\")\n",
    "\n",
    "print(\"Max auc-roc result with proba: \", max(auc_roc_forest_results_proba), \" takes \", (auc_roc_forest_results.index(max(auc_roc_forest_results))+1)*10, \" trees\")\n",
    "\n",
    "\n",
    "plt.scatter(x=list((range(1, 101))), y=auc_roc_forest_results)\n",
    "\n",
    "plt.scatter(x=list((range(1, 101))), y=auc_roc_forest_results_proba)\n",
    "plt.show()\n",
    "\n",
    "print(\"Time taken via number of trees:\")\n",
    "plt.scatter(x=list(range(0, 10)), y=time_list)\n",
    "plt.show()"
   ]
  },
  {
   "cell_type": "code",
   "execution_count": 15,
   "id": "d5889fe3",
   "metadata": {},
   "outputs": [],
   "source": [
    "##Finally, let's take a look at which features were most important in our model:"
   ]
  },
  {
   "cell_type": "code",
   "execution_count": 16,
   "id": "07bb9d52",
   "metadata": {},
   "outputs": [
    {
     "name": "stdout",
     "output_type": "stream",
     "text": [
      "[0.05759035 0.00359065 0.01766482 0.00359743 0.01482185 0.0034375\n",
      " 0.02168668 0.01480248 0.02392138 0.01405688 0.01775067 0.0384614\n",
      " 0.03787113 0.66936242 0.01538006 0.0177393  0.01779789 0.00272251\n",
      " 0.00426389 0.0034807 ]\n"
     ]
    },
    {
     "data": {
      "text/plain": [
       "<matplotlib.collections.PathCollection at 0x21d82735a90>"
      ]
     },
     "execution_count": 16,
     "metadata": {},
     "output_type": "execute_result"
    },
    {
     "data": {
      "image/png": "[encoded data removed]",
      "text/plain": [
       "<Figure size 432x288 with 1 Axes>"
      ]
     },
     "metadata": {
      "needs_background": "light"
     },
     "output_type": "display_data"
    }
   ],
   "source": [
    "importances = list(decision_forest.feature_importances_)\n",
    "\n",
    "number = list(range(0, 20, 1))\n",
    "\n",
    "print(decision_forest.feature_importances_)\n",
    "\n",
    "plt.scatter(x=number, y=importances)"
   ]
  },
  {
   "cell_type": "code",
   "execution_count": null,
   "id": "1a387a4b",
   "metadata": {},
   "outputs": [],
   "source": []
  }
 ],
 "metadata": {
  "kernelspec": {
   "display_name": "Python 3",
   "language": "python",
   "name": "python3"
  },
  "language_info": {
   "codemirror_mode": {
    "name": "ipython",
    "version": 3
   },
   "file_extension": ".py",
   "mimetype": "text/x-python",
   "name": "python",
   "nbconvert_exporter": "python",
   "pygments_lexer": "ipython3",
   "version": "3.8.8"
  }
 },
 "nbformat": 4,
 "nbformat_minor": 5
}
